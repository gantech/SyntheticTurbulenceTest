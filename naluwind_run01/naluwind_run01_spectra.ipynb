{
 "cells": [
  {
   "cell_type": "markdown",
   "metadata": {
    "deletable": true,
    "editable": true
   },
   "source": [
    "# Processing statistics from probe files"
   ]
  },
  {
   "cell_type": "code",
   "execution_count": 1,
   "metadata": {
    "collapsed": false,
    "deletable": true,
    "editable": true
   },
   "outputs": [],
   "source": [
    "%%capture\n",
    "\n",
    "# Change some display properties\n",
    "from IPython.core.display import display, HTML\n",
    "display(HTML(\"<style>.container { width:75% !important; }</style>\"))\n",
    "\n",
    "# Important header information\n",
    "\n",
    "# Import libraries\n",
    "import sys\n",
    "import numpy as np\n",
    "import matplotlib.pyplot as plt\n",
    "from netCDF4 import Dataset\n",
    "\n",
    "naluhelperdir = '../utilities'\n",
    "sys.path.insert(1, naluhelperdir)\n",
    "import windspectra\n",
    "#import yaml as yaml\n",
    "#from IPython.display import Image\n",
    "from matplotlib.lines import Line2D\n",
    "import matplotlib.image as mpimg\n",
    "%matplotlib inline\n"
   ]
  },
  {
   "cell_type": "code",
   "execution_count": 2,
   "metadata": {
    "collapsed": true,
    "deletable": true,
    "editable": true
   },
   "outputs": [],
   "source": [
    "# Probe file locations\n",
    "datadir='./probeData/'\n",
    "probefiles=[\n",
    "    'l_h1_0.dat',\n",
    "    'l_h2_1.dat',\n",
    "    'l_h3_2.dat',\n",
    "    'l_h4_3.dat',\n",
    "    'l_h5_4.dat',\n",
    "    'l_h6_5.dat',\n",
    "    'l_h7_6.dat',\n",
    "    'l_h8_7.dat',\n",
    "    'l_h9_8.dat',\n",
    "    'l_v2_9.dat',\n",
    "    'l_v3_10.dat',\n",
    "    'l_v4_11.dat',\n",
    "    'l_v5_12.dat',\n",
    "    'l_v6_13.dat',\n",
    "    'l_v7_14.dat',\n",
    "    'l_v8_15.dat',\n",
    "    'l_v9_16.dat',\n",
    "]\n"
   ]
  },
  {
   "cell_type": "code",
   "execution_count": 3,
   "metadata": {
    "collapsed": true,
    "deletable": true,
    "editable": true
   },
   "outputs": [],
   "source": [
    "avgbins    = [[50,600]] \n",
    "deltaX     = 2.5\n",
    "xlocations = range(-160,161,20) #[-160, -120, -80, -40, 0, 40, 80, 120, 160 ]"
   ]
  },
  {
   "cell_type": "code",
   "execution_count": 4,
   "metadata": {
    "collapsed": true,
    "deletable": true,
    "editable": true
   },
   "outputs": [],
   "source": [
    "# Define some dicts to save stuff\n",
    "Suu_avg={}\n",
    "Svv_avg={}\n",
    "Sww_avg={}\n",
    "avgUlong={}\n",
    "zavg={}\n",
    "favg={}\n",
    "Su_Kai={}\n",
    "Sv_Kai={}\n",
    "Sw_Kai={}"
   ]
  },
  {
   "cell_type": "code",
   "execution_count": 5,
   "metadata": {
    "collapsed": false,
    "deletable": true,
    "editable": true
   },
   "outputs": [
    {
     "name": "stdout",
     "output_type": "stream",
     "text": [
      "x = -160.000000\n",
      "x = -140.000000\n",
      "x = -120.000000\n",
      "x = -100.000000\n",
      "x = -80.000000\n",
      "x = -60.000000\n",
      "x = -40.000000\n",
      "x = -20.000000\n",
      "x = 0.000000\n",
      "x = 20.000000\n",
      "x = 40.000000\n",
      "x = 60.000000\n",
      "x = 80.000000\n",
      "x = 100.000000\n",
      "x = 120.000000\n",
      "x = 140.000000\n",
      "x = 160.000000\n"
     ]
    }
   ],
   "source": [
    "# Extract the spectra\n",
    "for x in xlocations:\n",
    "    print('x = %f'%x)\n",
    "    favg[x], Suu_avg[x], Svv_avg[x], Sww_avg[x], avgUlong[x]=windspectra.avgSpectraFiles(probefiles, None, datadir=datadir,\n",
    "                                                                                         verbose=False,    avgbins=avgbins, \n",
    "                                                                                         selectfunc=lambda d: d[d[:,1]==x,:])"
   ]
  },
  {
   "cell_type": "code",
   "execution_count": 6,
   "metadata": {
    "collapsed": false,
    "deletable": true,
    "editable": true
   },
   "outputs": [
    {
     "data": {
      "text/plain": [
       "array([ 160.,  140.,  120.,  100.,   80.,   60.,   40.,   20.,    0.,\n",
       "        -20.,  -40.,  -60.,  -80., -100., -120., -140., -160.])"
      ]
     },
     "execution_count": 6,
     "metadata": {},
     "output_type": "execute_result"
    },
    {
     "data": {
      "image/png": "[encoded data removed]",
      "text/plain": [
       "<matplotlib.figure.Figure at 0x7f9fb41f0b10>"
      ]
     },
     "metadata": {},
     "output_type": "display_data"
    }
   ],
   "source": [
    "# Test data input sizes\n",
    "dat=np.loadtxt(datadir+'/'+probefiles[0], skiprows=1)\n",
    "subview = lambda x: x[x[:,1]==120,:]\n",
    "x=subview(dat)\n",
    "plt.plot(x[:,0],x[:,4])\n",
    "dat[dat[:,0]==0.25,1]"
   ]
  },
  {
   "cell_type": "markdown",
   "metadata": {},
   "source": [
    "### Load the Mann box turbulence, compute its spectra"
   ]
  },
  {
   "cell_type": "code",
   "execution_count": 7,
   "metadata": {
    "collapsed": false
   },
   "outputs": [],
   "source": [
    "filename='turbulence.nc'\n",
    "ncbox={}\n",
    "with Dataset(filename) as d:\n",
    "    #print(d.variables)\n",
    "    ncbox['ndim'] = d.dimensions['ndim'].size\n",
    "    ncbox['nx']   = d.dimensions['nx'].size\n",
    "    ncbox['ny']   = d.dimensions['ny'].size\n",
    "    ncbox['nz']   = d.dimensions['nz'].size\n",
    "    ncbox['L']    = d.variables['box_lengths'][:]\n",
    "    ncbox['dx']   = d.variables['dx'][:]\n",
    "    ncbox['uvel'] = d.variables['uvel'][:,:,:]\n",
    "    ncbox['vvel'] = d.variables['vvel'][:,:,:]\n",
    "    ncbox['wvel'] = d.variables['wvel'][:,:,:]"
   ]
  },
  {
   "cell_type": "markdown",
   "metadata": {},
   "source": [
    "There are some Gaussian scaling factors used in `SyntheticTurbulence.c`.  \n",
    "From [Toldberg et al](https://onlinelibrary.wiley.com/doi/full/10.1002/we.1608) equation (10) we have\n",
    "\n",
    "$$\n",
    "\\mathbf{f}_\\epsilon = \\mathbf{f}_p \\otimes \\frac{\\eta}{\\Delta}\n",
    "$$\n",
    "where\n",
    "$$\n",
    "\\eta(n) = \\frac{1}{\\epsilon \\sqrt{\\pi}} \\exp \\left[ \\left( -\\frac{n-n_d}{\\epsilon} \\right)^2 \\right]\n",
    "$$\n",
    "\n",
    "So the velocity fluctuations will be approximately scaled by\n",
    "$$\n",
    "\\sqrt{\\frac{\\eta(0)}{\\Delta}}\n",
    "$$"
   ]
  },
  {
   "cell_type": "code",
   "execution_count": null,
   "metadata": {
    "collapsed": false
   },
   "outputs": [],
   "source": [
    "# Get the timei vector\n",
    "Uavg = 10.0\n",
    "tvec = ncbox['dx'][0]/Uavg*np.arange(ncbox['nx'])\n",
    "\n",
    "# Set the scaling factors\n",
    "ds=5.0\n",
    "eps=2.5 #2*ds\n",
    "gaussScale = np.sqrt(1.0/(eps*np.sqrt(np.pi)*ds))\n"
   ]
  },
  {
   "cell_type": "code",
   "execution_count": null,
   "metadata": {
    "collapsed": false
   },
   "outputs": [
    {
     "name": "stdout",
     "output_type": "stream",
     "text": [
      "Working...\n",
      "59%"
     ]
    }
   ],
   "source": [
    "# Average over the entire inlet plane of turbulence\n",
    "Suu = []\n",
    "Svv = []\n",
    "Sww = []\n",
    "itotal = 0\n",
    "print(\"Working...\")\n",
    "for i in range(ncbox['ny']):\n",
    "    sys.stdout.write(\"\\r%d%%\" % int(i*100.0/ncbox['ny']))\n",
    "    sys.stdout.flush()\n",
    "    for j in range(ncbox['nz']):\n",
    "        f, tSuu = windspectra.getWindSpectra(tvec, ncbox['uvel'][:,i,j]*gaussScale)\n",
    "        f, tSvv = windspectra.getWindSpectra(tvec, ncbox['vvel'][:,i,j]*gaussScale)\n",
    "        f, tSww = windspectra.getWindSpectra(tvec, ncbox['wvel'][:,i,j]*gaussScale)\n",
    "        Suu = tSuu if len(Suu) == 0 else Suu + tSuu\n",
    "        Svv = tSuu if len(Svv) == 0 else Svv + tSvv\n",
    "        Sww = tSuu if len(Sww) == 0 else Sww + tSww\n",
    "        itotal += 1\n",
    "Suu = Suu/float(itotal)\n",
    "Svv = Svv/float(itotal)\n",
    "Sww = Sww/float(itotal)\n",
    "print(\"\")\n",
    "print(\"Done.\")"
   ]
  },
  {
   "cell_type": "code",
   "execution_count": null,
   "metadata": {
    "collapsed": true
   },
   "outputs": [],
   "source": [
    "# Octave band average \n",
    "Nband=3\n",
    "Mannf, MannSuu = windspectra.NarrowToOctaveBand(f, Suu, Nband)\n",
    "Mannf, MannSvv = windspectra.NarrowToOctaveBand(f, Svv, Nband)\n",
    "Mannf, MannSww = windspectra.NarrowToOctaveBand(f, Sww, Nband)"
   ]
  },
  {
   "cell_type": "markdown",
   "metadata": {},
   "source": [
    "## Plot Spectra"
   ]
  },
  {
   "cell_type": "code",
   "execution_count": null,
   "metadata": {
    "collapsed": false,
    "deletable": true,
    "editable": true
   },
   "outputs": [],
   "source": [
    "Nband = 3\n",
    "\n",
    "plt.rc('font', size=16)\n",
    "fig, axs = plt.subplots(1,3,figsize=(16,8),sharey=True)\n",
    "for x in xlocations[::3]:\n",
    "    avgf, avgSuu = windspectra.NarrowToOctaveBand(favg[x], Suu_avg[x], Nband)\n",
    "    avgf, avgSvv = windspectra.NarrowToOctaveBand(favg[x], Svv_avg[x], Nband)\n",
    "    avgf, avgSww = windspectra.NarrowToOctaveBand(favg[x], Sww_avg[x], Nband)\n",
    "    fmax = 0.6*avgUlong[x]/(8*deltaX)\n",
    "    #print('avgU = %e'%avgUlong[x])\n",
    "    axs[0].loglog(avgf, avgf*avgSuu/avgUlong[x]**2, label='x=%i'%x)\n",
    "    axs[1].loglog(avgf, avgf*avgSvv/avgUlong[x]**2, label='x=%i'%x)\n",
    "    axs[2].loglog(avgf, avgf*avgSww/avgUlong[x]**2, label='x=%i'%x)\n",
    "\n",
    "axs[0].loglog(Mannf, Mannf*MannSuu/Uavg**2, 'k', lw=2, label='Mann box')\n",
    "axs[1].loglog(Mannf, Mannf*MannSvv/Uavg**2, 'k', lw=2, label='Mann box')\n",
    "axs[2].loglog(Mannf, Mannf*MannSww/Uavg**2, 'k', lw=2, label='Mann box')\n",
    "    \n",
    "axs[0].set_ylabel(r'$f*S_{uu}/\\bar{U}$')\n",
    "axs[0].set_title('Suu')\n",
    "axs[1].set_title('Svv')\n",
    "axs[2].set_title('Sww')\n",
    "    \n",
    "plt.legend(loc='lower left')\n",
    "plt.ylim([1E-10, 1E-4])\n",
    "for i in range(3): \n",
    "    axs[i].vlines(fmax, 5e-11, 20,lw=2, linestyle='-.')\n",
    "    axs[i].set_xlabel('Frequency f [Hz]')\n",
    "    axs[i].grid()"
   ]
  },
  {
   "cell_type": "code",
   "execution_count": null,
   "metadata": {
    "collapsed": false,
    "deletable": true,
    "editable": true
   },
   "outputs": [],
   "source": [
    "# compute Reynolds Stress\n",
    "def computeReStress(filename, selectfunc, argslist, datadir='.'):\n",
    "    dat       = np.loadtxt(datadir+'/'+filename, skiprows=1)\n",
    "    ReStressX = np.zeros((len(argslist),3,3))\n",
    "    for iarg, arg in enumerate(argslist):\n",
    "        #print('x = %f'%arg)\n",
    "        filterdat=selectfunc(dat, arg)\n",
    "        ui=[]\n",
    "        ui.append(filterdat[:,4])\n",
    "        ui.append(filterdat[:,5])\n",
    "        ui.append(filterdat[:,6])\n",
    "        meanu=np.zeros(3)\n",
    "        up = np.zeros((3,len(filterdat[:,6])))\n",
    "        for i in range(3): meanu[i] = np.mean(ui[i])\n",
    "        for i in range(3): \n",
    "            up[i,:] = ui[i]-meanu[i]\n",
    "        #ReStress = np.zeros((3,3))\n",
    "        for i in range(3):\n",
    "            for j in range(3):\n",
    "                ReStressX[iarg][i][j] = np.mean(up[i]*up[j])\n",
    "        #print(meanu)\n",
    "        #print(ReStress)\n",
    "    return ReStressX\n",
    "\n",
    "def AvgReStress(allfiles, selectfunc, argslist, datadir='.'):\n",
    "    AllReStress = np.zeros((len(argslist),3,3))\n",
    "    for file in allfiles:\n",
    "        print('file = '+file)\n",
    "        ReStress = computeReStress(file, selectfunc, argslist, datadir=datadir)\n",
    "        AllReStress = AllReStress + ReStress\n",
    "    AllReStress = AllReStress/float(len(allfiles))\n",
    "    return AllReStress\n",
    "\n",
    "#ReStressX=computeReStress(probefiles[0], lambda d,x:  d[d[:,1]==x,:], xlocations, datadir=datadir)\n",
    "ReStressX=AvgReStress(probefiles, lambda d,x:  d[d[:,1]==x,:], xlocations, datadir=datadir)"
   ]
  },
  {
   "cell_type": "code",
   "execution_count": null,
   "metadata": {
    "collapsed": false,
    "deletable": true,
    "editable": true
   },
   "outputs": [],
   "source": [
    "plt.figure(figsize=(12,6))\n",
    "plt.plot(xlocations, ReStressX[:,0,0], label=r'$<u_1 u_1>$')\n",
    "plt.plot(xlocations, ReStressX[:,1,1], label=r'$<u_2 u_2>$')\n",
    "plt.plot(xlocations, ReStressX[:,2,2], label=r'$<u_3 u_3>$')\n",
    "plt.grid()\n",
    "plt.legend()\n",
    "plt.xlabel('x [m]')\n",
    "plt.ylabel(r'$<u_i u_j>$')\n",
    "plt.title('Avg. Reynolds Stress, all probe files')\n",
    "plt.ylim([0, 1.5*np.max(ReStressX[:,0,0])]);\n",
    "#ReStressX[0,:,:]"
   ]
  },
  {
   "cell_type": "code",
   "execution_count": null,
   "metadata": {
    "collapsed": false,
    "deletable": true,
    "editable": true
   },
   "outputs": [],
   "source": [
    "plt.figure(figsize=(12,6))\n",
    "plt.plot(xlocations, ReStressX[:,0,1], label=r'$<u_1 u_2>$')\n",
    "plt.plot(xlocations, ReStressX[:,0,2], label=r'$<u_1 u_3>$')\n",
    "plt.plot(xlocations, ReStressX[:,1,2], label=r'$<u_2 u_3>$')\n",
    "plt.grid()\n",
    "plt.legend()\n",
    "plt.xlabel('x [m]')\n",
    "plt.ylabel(r'$<u_i u_j>$')\n",
    "plt.title('Avg. Reynolds Stress, all probe files')\n",
    "max=np.max(ReStressX[:,0,1])\n",
    "#plt.ylim([-max, max]);"
   ]
  },
  {
   "cell_type": "code",
   "execution_count": null,
   "metadata": {
    "collapsed": true,
    "deletable": true,
    "editable": true
   },
   "outputs": [],
   "source": []
  }
 ],
 "metadata": {
  "kernelspec": {
   "display_name": "Python 2",
   "language": "python",
   "name": "python2"
  },
  "language_info": {
   "codemirror_mode": {
    "name": "ipython",
    "version": 2
   },
   "file_extension": ".py",
   "mimetype": "text/x-python",
   "name": "python",
   "nbconvert_exporter": "python",
   "pygments_lexer": "ipython2",
   "version": "2.7.13"
  }
 },
 "nbformat": 4,
 "nbformat_minor": 2
}
